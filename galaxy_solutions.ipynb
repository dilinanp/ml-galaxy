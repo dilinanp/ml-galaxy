{
  "nbformat": 4,
  "nbformat_minor": 0,
  "metadata": {
    "colab": {
      "provenance": [],
      "authorship_tag": "ABX9TyNpUfsKrMDxsljCYC3u7/tX",
      "include_colab_link": true
    },
    "kernelspec": {
      "name": "python3",
      "display_name": "Python 3"
    },
    "language_info": {
      "name": "python"
    }
  },
  "cells": [
    {
      "cell_type": "markdown",
      "metadata": {
        "id": "view-in-github",
        "colab_type": "text"
      },
      "source": [
        "<a href=\"https://colab.research.google.com/github/dilinanp/ml-galaxy/blob/main/galaxy_solutions.ipynb\" target=\"_parent\"><img src=\"https://colab.research.google.com/assets/colab-badge.svg\" alt=\"Open In Colab\"/></a>"
      ]
    },
    {
      "cell_type": "markdown",
      "source": [
        "# Import necessary Python libraries and functions."
      ],
      "metadata": {
        "id": "jTywTWlwdwAi"
      }
    },
    {
      "cell_type": "code",
      "source": [
        "# Run the following code by hitting the \"play\" button on the left.\n",
        "\n",
        "import numpy as np\n",
        "import h5py\n",
        "import matplotlib.pyplot as plt\n",
        "from matplotlib.pyplot import imshow\n",
        "\n",
        "plt.rcParams['image.cmap']='gray'"
      ],
      "metadata": {
        "id": "-KpLttUbRy_2"
      },
      "execution_count": null,
      "outputs": []
    },
    {
      "cell_type": "markdown",
      "source": [
        "# Download the dataset\n",
        "The dataset will be downloaded as a single file named ``galaxy_small.h5``."
      ],
      "metadata": {
        "id": "6sjN13qhfCQz"
      }
    },
    {
      "cell_type": "code",
      "source": [
        "# Run the following code by hitting the \"play\" button on the left.\n",
        "\n",
        "!wget -O galaxy_small.h5 \"https://www.dropbox.com/scl/fi/htzz25s95sjnyfm0ofvfn/galaxy_small.h5?dl=0&rlkey=586kuytxtxvwsvz1q8a47az0m\""
      ],
      "metadata": {
        "colab": {
          "base_uri": "https://localhost:8080/"
        },
        "id": "b_WbZ0UkTn1Q",
        "outputId": "aa419a14-afb6-443b-86ad-4668e133f818"
      },
      "execution_count": null,
      "outputs": [
        {
          "output_type": "stream",
          "name": "stdout",
          "text": [
            "--2023-11-11 04:28:29--  https://www.dropbox.com/scl/fi/htzz25s95sjnyfm0ofvfn/galaxy_small.h5?dl=0&rlkey=586kuytxtxvwsvz1q8a47az0m\n",
            "Resolving www.dropbox.com (www.dropbox.com)... 162.125.2.18, 2620:100:601d:18::a27d:512\n",
            "Connecting to www.dropbox.com (www.dropbox.com)|162.125.2.18|:443... connected.\n",
            "HTTP request sent, awaiting response... 302 Found\n",
            "Location: https://uca0813affb66244d8a3c4970046.dl.dropboxusercontent.com/cd/0/inline/CHQMC6mA4afpQT0PHD7-bw7C5enGjfGca-OcpBSY8jXMUoB2NtrIHXLqk1xvFp-i6Mkor3WlF4BOoyKt_JqVNt_1HZeSQ9J3HfCaDuzryXKbHYmRYknSSFKwYMxkncoR47Y/file# [following]\n",
            "--2023-11-11 04:28:30--  https://uca0813affb66244d8a3c4970046.dl.dropboxusercontent.com/cd/0/inline/CHQMC6mA4afpQT0PHD7-bw7C5enGjfGca-OcpBSY8jXMUoB2NtrIHXLqk1xvFp-i6Mkor3WlF4BOoyKt_JqVNt_1HZeSQ9J3HfCaDuzryXKbHYmRYknSSFKwYMxkncoR47Y/file\n",
            "Resolving uca0813affb66244d8a3c4970046.dl.dropboxusercontent.com (uca0813affb66244d8a3c4970046.dl.dropboxusercontent.com)... 162.125.5.15, 2620:100:601f:15::a27d:90f\n",
            "Connecting to uca0813affb66244d8a3c4970046.dl.dropboxusercontent.com (uca0813affb66244d8a3c4970046.dl.dropboxusercontent.com)|162.125.5.15|:443... connected.\n",
            "HTTP request sent, awaiting response... 302 Found\n",
            "Location: /cd/0/inline2/CHR7BNcnTAC0s52UYbWwCiZOxpwrI1P0fDN6Vf--x-Z7Ce5uInpRZ9J4I7-JfVJIBam23aCYmxEBzjmpMqNbDeefbd5xxY9_gQa2_TN6JJLViU2gHi2y4hPdAowk2jyVjHHNH1V6Pz0roerkmetVkdX7u53lLNjZHcOkTgsC3r1vBkRyh3_dTA8WpzGreZQeNHj9ZiTn4U2BNe1HKtql3fK_ZFbrnIO98fz6DJCoyMwHtpunwAm4DrQgdJ8PYu0q69534Lb3eRWg6idx2yGuVnQWmIjYtjCTXOasaMNtNrlL_fiAj_wkKslrBW9STLWUqVMdMZ2brqBnPqEMSmz4VHaBVdiUhCdv6s5QYJ4s6MxdYg/file [following]\n",
            "--2023-11-11 04:28:31--  https://uca0813affb66244d8a3c4970046.dl.dropboxusercontent.com/cd/0/inline2/CHR7BNcnTAC0s52UYbWwCiZOxpwrI1P0fDN6Vf--x-Z7Ce5uInpRZ9J4I7-JfVJIBam23aCYmxEBzjmpMqNbDeefbd5xxY9_gQa2_TN6JJLViU2gHi2y4hPdAowk2jyVjHHNH1V6Pz0roerkmetVkdX7u53lLNjZHcOkTgsC3r1vBkRyh3_dTA8WpzGreZQeNHj9ZiTn4U2BNe1HKtql3fK_ZFbrnIO98fz6DJCoyMwHtpunwAm4DrQgdJ8PYu0q69534Lb3eRWg6idx2yGuVnQWmIjYtjCTXOasaMNtNrlL_fiAj_wkKslrBW9STLWUqVMdMZ2brqBnPqEMSmz4VHaBVdiUhCdv6s5QYJ4s6MxdYg/file\n",
            "Reusing existing connection to uca0813affb66244d8a3c4970046.dl.dropboxusercontent.com:443.\n",
            "HTTP request sent, awaiting response... 200 OK\n",
            "Length: 240026048 (229M) [application/octet-stream]\n",
            "Saving to: ‘galaxy_small.h5’\n",
            "\n",
            "galaxy_small.h5     100%[===================>] 228.91M  88.4MB/s    in 2.6s    \n",
            "\n",
            "2023-11-11 04:28:34 (88.4 MB/s) - ‘galaxy_small.h5’ saved [240026048/240026048]\n",
            "\n"
          ]
        }
      ]
    },
    {
      "cell_type": "markdown",
      "source": [
        "# Read the dataset and store the images and labels in seperate arrays.\n",
        "The images will be stored in an array named ``images``.\n",
        "\n",
        "The labels will be stored in an array named ``labels``.\n"
      ],
      "metadata": {
        "id": "hE6UBmD2f0PS"
      }
    },
    {
      "cell_type": "code",
      "source": [
        "# Run the following code by hitting the \"play\" button on the left.\n",
        "\n",
        "with h5py.File(\"galaxy_small.h5\", 'r') as f:\n",
        "    images = np.array(f['images'])\n",
        "    labels = np.array(f['labels'])"
      ],
      "metadata": {
        "id": "C1hIxfuHR99G"
      },
      "execution_count": null,
      "outputs": []
    },
    {
      "cell_type": "markdown",
      "source": [
        "--------------------------------------------------------------------------------\n",
        "# Explore the ``images`` and ``labels`` arrays to get an idea about the dataset.\n",
        "Our dataset consists of 3000 grayscale images of galaxies and the corresponding labels.\n",
        "\n",
        "There are three types of galaxies in the dataset:\n",
        "\n",
        "| Galaxy Type | Label | Number of Images |\n",
        "| ----------- |:-----:|:----------------:|\n",
        "| Round       |   0   |       1000       |\n",
        "| Sprial      |   1   |       1000       |\n",
        "| Edge-on     |   2   |       1000       |\n"
      ],
      "metadata": {
        "id": "wU5d13wtpZmG"
      }
    },
    {
      "cell_type": "markdown",
      "source": [
        "### Print the label of the first image.\n",
        "Note that array indices start from 0 in Python."
      ],
      "metadata": {
        "id": "dwDc5iB-xur_"
      }
    },
    {
      "cell_type": "code",
      "source": [
        "# Type your code here.\n",
        "\n",
        "labels[0]"
      ],
      "metadata": {
        "colab": {
          "base_uri": "https://localhost:8080/"
        },
        "id": "J_EcZ2RLyD3c",
        "outputId": "8a8408db-7dce-4b0e-b893-659fb92a091c"
      },
      "execution_count": null,
      "outputs": [
        {
          "output_type": "execute_result",
          "data": {
            "text/plain": [
              "2"
            ]
          },
          "metadata": {},
          "execution_count": 4
        }
      ]
    },
    {
      "cell_type": "markdown",
      "source": [
        "### Print the labels of the first 20 images."
      ],
      "metadata": {
        "id": "tWRVIE0qusY8"
      }
    },
    {
      "cell_type": "code",
      "source": [
        "# Type your code here.\n",
        "\n",
        "labels[0:20]"
      ],
      "metadata": {
        "colab": {
          "base_uri": "https://localhost:8080/"
        },
        "id": "LbCPGnNMuTaF",
        "outputId": "61e84ad2-3896-4f4c-db42-7ce9ef962a45"
      },
      "execution_count": null,
      "outputs": [
        {
          "output_type": "execute_result",
          "data": {
            "text/plain": [
              "array([2, 1, 0, 0, 0, 1, 2, 1, 0, 2, 1, 2, 2, 1, 1, 2, 0, 1, 2, 2])"
            ]
          },
          "metadata": {},
          "execution_count": 5
        }
      ]
    },
    {
      "cell_type": "markdown",
      "source": [
        "### Print the first image."
      ],
      "metadata": {
        "id": "T8qsWlbmvfpr"
      }
    },
    {
      "cell_type": "code",
      "source": [
        "# Type your code here.\n",
        "images[0]"
      ],
      "metadata": {
        "colab": {
          "base_uri": "https://localhost:8080/"
        },
        "id": "wEofj9aNXaeM",
        "outputId": "0155df03-ef5f-4481-c6d2-0e7485fcedf1"
      },
      "execution_count": null,
      "outputs": [
        {
          "output_type": "execute_result",
          "data": {
            "text/plain": [
              "array([[0.16660462, 0.11927897, 0.10883152, ..., 0.09850604, 0.1867404 ,\n",
              "        0.1129946 ],\n",
              "       [0.1391312 , 0.13929194, 0.09971969, ..., 0.11649208, 0.11066705,\n",
              "        0.14131445],\n",
              "       [0.08808996, 0.10971772, 0.13360112, ..., 0.16597291, 0.13306754,\n",
              "        0.13238673],\n",
              "       ...,\n",
              "       [0.14464406, 0.11510055, 0.10244692, ..., 0.12762166, 0.11882676,\n",
              "        0.10672898],\n",
              "       [0.08792547, 0.128603  , 0.12096338, ..., 0.13224414, 0.10002639,\n",
              "        0.14350475],\n",
              "       [0.14353749, 0.11339012, 0.08845028, ..., 0.09452755, 0.12479791,\n",
              "        0.08533168]])"
            ]
          },
          "metadata": {},
          "execution_count": 6
        }
      ]
    },
    {
      "cell_type": "markdown",
      "source": [
        "### Display the first image as an actual image using the ``imshow()`` function.\n",
        "See if you can identify what type of galaxy it is (round, spiral, or edge-on).\n"
      ],
      "metadata": {
        "id": "DFXdBZOo4wkV"
      }
    },
    {
      "cell_type": "code",
      "source": [
        "# Type your code here.\n",
        "\n",
        "imshow(images[0])"
      ],
      "metadata": {
        "colab": {
          "base_uri": "https://localhost:8080/",
          "height": 451
        },
        "id": "YKFAt9YfXcQx",
        "outputId": "3f1f5270-21ce-4b7a-ef9a-0389966605c1"
      },
      "execution_count": null,
      "outputs": [
        {
          "output_type": "execute_result",
          "data": {
            "text/plain": [
              "<matplotlib.image.AxesImage at 0x7eb631350ee0>"
            ]
          },
          "metadata": {},
          "execution_count": 7
        },
        {
          "output_type": "display_data",
          "data": {
            "text/plain": [
              "<Figure size 640x480 with 1 Axes>"
            ],
            "image/png": "[encoded data removed]"
          },
          "metadata": {}
        }
      ]
    },
    {
      "cell_type": "markdown",
      "source": [
        "### Print the label of the first image and see if you had guessed the galaxy type correctly.\n",
        "Remember that the labels corresponding to different galaxy types are,\n",
        "\n",
        "| Galaxy Type | Label |\n",
        "| ----------- |:-----:|\n",
        "| Round       |   0   |\n",
        "| Sprial      |   1   |\n",
        "| Edge-on     |   2   |"
      ],
      "metadata": {
        "id": "bRY6mokm669O"
      }
    },
    {
      "cell_type": "code",
      "source": [
        "# Type your code here.\n",
        "\n",
        "labels[0]"
      ],
      "metadata": {
        "colab": {
          "base_uri": "https://localhost:8080/"
        },
        "id": "a4Jd5FCt7_P1",
        "outputId": "69138e64-6cf0-4239-cdbf-73a3721babff"
      },
      "execution_count": null,
      "outputs": [
        {
          "output_type": "execute_result",
          "data": {
            "text/plain": [
              "2"
            ]
          },
          "metadata": {},
          "execution_count": 8
        }
      ]
    },
    {
      "cell_type": "markdown",
      "source": [
        "--------------------------------------------------------------------------------\n",
        "# Prepare the dataset for machine learning models.\n",
        "\n",
        "\n"
      ],
      "metadata": {
        "id": "6E8IfP5X_vul"
      }
    },
    {
      "cell_type": "markdown",
      "source": [
        "### Step 1: \"Flatten\" the images.\n",
        "Since our images are 2D arrays, we cannot directly feed them into machine learning models.\n",
        "\n",
        "We will first need to convert each 100 X 100 array into a 1D array of size 10,000.\n",
        "\n",
        "This can be achieved using the ``reshape()`` function."
      ],
      "metadata": {
        "id": "d1s2M7RoAOsX"
      }
    },
    {
      "cell_type": "code",
      "source": [
        "# Run the following code.\n",
        "\n",
        "flat_images = images.reshape(3000, 100*100)"
      ],
      "metadata": {
        "id": "BsMIy8gcXd5o"
      },
      "execution_count": null,
      "outputs": []
    },
    {
      "cell_type": "markdown",
      "source": [
        "### Step 2: Split the dataset into a training set and a test set\n",
        "We will use the first 2000 images/labels for training, and the remaining 1000 images/labels for testing."
      ],
      "metadata": {
        "id": "M5oz_QMBCZrs"
      }
    },
    {
      "cell_type": "markdown",
      "source": [
        "Split the ``images`` array into two arrays:\n",
        "\n",
        "first 2000 images &rarr; ``X_train``\n",
        "\n",
        "last 1000 images &rarr; ``X_test``\n",
        "\n"
      ],
      "metadata": {
        "id": "qkfe6-c6WBDD"
      }
    },
    {
      "cell_type": "code",
      "source": [
        "# Type your code here.\n",
        "\n",
        "X_train = flat_images[0:2000]\n",
        "X_test = flat_images[2000:3000]"
      ],
      "metadata": {
        "id": "XBdGz15yXtmF"
      },
      "execution_count": null,
      "outputs": []
    },
    {
      "cell_type": "markdown",
      "source": [
        "Split the ``labels`` array into two arrays:\n",
        "\n",
        "first 2000 labels &rarr; ``y_train``\n",
        "\n",
        "last 1000 labels &rarr; ``y_test``"
      ],
      "metadata": {
        "id": "bMW4myL2Zmam"
      }
    },
    {
      "cell_type": "code",
      "source": [
        "# Type your code here.\n",
        "\n",
        "y_train = labels[0:2000]\n",
        "y_test = labels[2000:3000]"
      ],
      "metadata": {
        "id": "eyh3S1wDZvYS"
      },
      "execution_count": null,
      "outputs": []
    },
    {
      "cell_type": "markdown",
      "source": [
        "--------------------------------------------------------------------------------\n",
        "# Apply the machine learning model (K-Nearest Neighbors)\n",
        "\n",
        "Let us apply a simple machine learning model called K-Nearest Neighbors (KNN). \\\n"
      ],
      "metadata": {
        "id": "6fTjOQDCpg_O"
      }
    },
    {
      "cell_type": "markdown",
      "source": [
        "### Step 1: Import the KNN model from the scikit-learn (``sklearn``) library and initialize it."
      ],
      "metadata": {
        "id": "QB-HYAbmthIs"
      }
    },
    {
      "cell_type": "code",
      "source": [
        "# Import the KNN model\n",
        "from sklearn.neighbors import KNeighborsClassifier\n",
        "\n",
        "# Type code to initialize the model.\n",
        "knn = KNeighborsClassifier()"
      ],
      "metadata": {
        "id": "yCB1CozGuKRL"
      },
      "execution_count": null,
      "outputs": []
    },
    {
      "cell_type": "markdown",
      "source": [
        "### Step 2: Train the KNN model using the training images (``X_train``) and training labels (``y_train``)\n",
        "\n",
        "We can use the ``fit()`` function to train the model."
      ],
      "metadata": {
        "id": "tsSfMcrx1XBm"
      }
    },
    {
      "cell_type": "code",
      "source": [
        "# Type your code here\n",
        "\n",
        "knn.fit(X_train, y_train)"
      ],
      "metadata": {
        "colab": {
          "base_uri": "https://localhost:8080/",
          "height": 75
        },
        "id": "hmX3tQiM1w_H",
        "outputId": "eea28b51-f03a-4b19-d728-6f069bd37c3d"
      },
      "execution_count": null,
      "outputs": [
        {
          "output_type": "execute_result",
          "data": {
            "text/plain": [
              "KNeighborsClassifier()"
            ],
            "text/html": [
              "<style>#sk-container-id-1 {color: black;background-color: white;}#sk-container-id-1 pre{padding: 0;}#sk-container-id-1 div.sk-toggleable {background-color: white;}#sk-container-id-1 label.sk-toggleable__label {cursor: pointer;display: block;width: 100%;margin-bottom: 0;padding: 0.3em;box-sizing: border-box;text-align: center;}#sk-container-id-1 label.sk-toggleable__label-arrow:before {content: \"▸\";float: left;margin-right: 0.25em;color: #696969;}#sk-container-id-1 label.sk-toggleable__label-arrow:hover:before {color: black;}#sk-container-id-1 div.sk-estimator:hover label.sk-toggleable__label-arrow:before {color: black;}#sk-container-id-1 div.sk-toggleable__content {max-height: 0;max-width: 0;overflow: hidden;text-align: left;background-color: #f0f8ff;}#sk-container-id-1 div.sk-toggleable__content pre {margin: 0.2em;color: black;border-radius: 0.25em;background-color: #f0f8ff;}#sk-container-id-1 input.sk-toggleable__control:checked~div.sk-toggleable__content {max-height: 200px;max-width: 100%;overflow: auto;}#sk-container-id-1 input.sk-toggleable__control:checked~label.sk-toggleable__label-arrow:before {content: \"▾\";}#sk-container-id-1 div.sk-estimator input.sk-toggleable__control:checked~label.sk-toggleable__label {background-color: #d4ebff;}#sk-container-id-1 div.sk-label input.sk-toggleable__control:checked~label.sk-toggleable__label {background-color: #d4ebff;}#sk-container-id-1 input.sk-hidden--visually {border: 0;clip: rect(1px 1px 1px 1px);clip: rect(1px, 1px, 1px, 1px);height: 1px;margin: -1px;overflow: hidden;padding: 0;position: absolute;width: 1px;}#sk-container-id-1 div.sk-estimator {font-family: monospace;background-color: #f0f8ff;border: 1px dotted black;border-radius: 0.25em;box-sizing: border-box;margin-bottom: 0.5em;}#sk-container-id-1 div.sk-estimator:hover {background-color: #d4ebff;}#sk-container-id-1 div.sk-parallel-item::after {content: \"\";width: 100%;border-bottom: 1px solid gray;flex-grow: 1;}#sk-container-id-1 div.sk-label:hover label.sk-toggleable__label {background-color: #d4ebff;}#sk-container-id-1 div.sk-serial::before {content: \"\";position: absolute;border-left: 1px solid gray;box-sizing: border-box;top: 0;bottom: 0;left: 50%;z-index: 0;}#sk-container-id-1 div.sk-serial {display: flex;flex-direction: column;align-items: center;background-color: white;padding-right: 0.2em;padding-left: 0.2em;position: relative;}#sk-container-id-1 div.sk-item {position: relative;z-index: 1;}#sk-container-id-1 div.sk-parallel {display: flex;align-items: stretch;justify-content: center;background-color: white;position: relative;}#sk-container-id-1 div.sk-item::before, #sk-container-id-1 div.sk-parallel-item::before {content: \"\";position: absolute;border-left: 1px solid gray;box-sizing: border-box;top: 0;bottom: 0;left: 50%;z-index: -1;}#sk-container-id-1 div.sk-parallel-item {display: flex;flex-direction: column;z-index: 1;position: relative;background-color: white;}#sk-container-id-1 div.sk-parallel-item:first-child::after {align-self: flex-end;width: 50%;}#sk-container-id-1 div.sk-parallel-item:last-child::after {align-self: flex-start;width: 50%;}#sk-container-id-1 div.sk-parallel-item:only-child::after {width: 0;}#sk-container-id-1 div.sk-dashed-wrapped {border: 1px dashed gray;margin: 0 0.4em 0.5em 0.4em;box-sizing: border-box;padding-bottom: 0.4em;background-color: white;}#sk-container-id-1 div.sk-label label {font-family: monospace;font-weight: bold;display: inline-block;line-height: 1.2em;}#sk-container-id-1 div.sk-label-container {text-align: center;}#sk-container-id-1 div.sk-container {/* jupyter's `normalize.less` sets `[hidden] { display: none; }` but bootstrap.min.css set `[hidden] { display: none !important; }` so we also need the `!important` here to be able to override the default hidden behavior on the sphinx rendered scikit-learn.org. See: https://github.com/scikit-learn/scikit-learn/issues/21755 */display: inline-block !important;position: relative;}#sk-container-id-1 div.sk-text-repr-fallback {display: none;}</style><div id=\"sk-container-id-1\" class=\"sk-top-container\"><div class=\"sk-text-repr-fallback\"><pre>KNeighborsClassifier()</pre><b>In a Jupyter environment, please rerun this cell to show the HTML representation or trust the notebook. <br />On GitHub, the HTML representation is unable to render, please try loading this page with nbviewer.org.</b></div><div class=\"sk-container\" hidden><div class=\"sk-item\"><div class=\"sk-estimator sk-toggleable\"><input class=\"sk-toggleable__control sk-hidden--visually\" id=\"sk-estimator-id-1\" type=\"checkbox\" checked><label for=\"sk-estimator-id-1\" class=\"sk-toggleable__label sk-toggleable__label-arrow\">KNeighborsClassifier</label><div class=\"sk-toggleable__content\"><pre>KNeighborsClassifier()</pre></div></div></div></div></div>"
            ]
          },
          "metadata": {},
          "execution_count": 13
        }
      ]
    },
    {
      "cell_type": "markdown",
      "source": [
        "### Step 3: Predict the labels for the test images (``X_test``)\n",
        "\n",
        "You can use the ``predict()`` function to predict the labels.\n",
        "\n",
        "Assign the resulting predicted labels to a variable named ``y_pred``."
      ],
      "metadata": {
        "id": "8GmtffZc2GYC"
      }
    },
    {
      "cell_type": "code",
      "source": [
        "# Type your code here\n",
        "\n",
        "y_pred = knn.predict(X_test)"
      ],
      "metadata": {
        "id": "5mDbnrtl1754"
      },
      "execution_count": null,
      "outputs": []
    },
    {
      "cell_type": "markdown",
      "source": [
        "### Compare the predicted labels and the true labels for the first 20 test images.\n",
        "See if the machine learning model has done a good job at predicting labels of the first 20 test images."
      ],
      "metadata": {
        "id": "JAt_GmGD5wPw"
      }
    },
    {
      "cell_type": "code",
      "source": [
        "# Write code to print the first 20 elements in the y_pred array.\n",
        "y_pred[0:20]"
      ],
      "metadata": {
        "colab": {
          "base_uri": "https://localhost:8080/"
        },
        "id": "a4GEqSAM66Pp",
        "outputId": "ab03768e-4572-4985-e571-dc38acd05f39"
      },
      "execution_count": null,
      "outputs": [
        {
          "output_type": "execute_result",
          "data": {
            "text/plain": [
              "array([2, 0, 1, 1, 0, 0, 1, 0, 1, 2, 2, 0, 1, 0, 1, 0, 1, 0, 2, 2])"
            ]
          },
          "metadata": {},
          "execution_count": 15
        }
      ]
    },
    {
      "cell_type": "code",
      "source": [
        "# Write code to print the first 20 elements in the y_test array.\n",
        "y_test[0:20]"
      ],
      "metadata": {
        "colab": {
          "base_uri": "https://localhost:8080/"
        },
        "id": "Xu2jU3caBquj",
        "outputId": "2a6ea9a9-25b1-4164-c274-dc6111984be4"
      },
      "execution_count": null,
      "outputs": [
        {
          "output_type": "execute_result",
          "data": {
            "text/plain": [
              "array([2, 0, 1, 0, 0, 0, 1, 1, 1, 2, 2, 1, 1, 0, 1, 1, 1, 1, 2, 2])"
            ]
          },
          "metadata": {},
          "execution_count": 16
        }
      ]
    },
    {
      "cell_type": "markdown",
      "source": [
        "### Calculate the test accuracy\n",
        "One way to evaluate the performance of the machine learning model is to calculate the \"test accuracy\", which is the fraction of predictions our model got right.\n",
        "\n",
        "We can use the ``accuracy_score()`` function in the scikit-learn library to calculate the test accuracy."
      ],
      "metadata": {
        "id": "L3H3l3s7B_Io"
      }
    },
    {
      "cell_type": "code",
      "source": [
        "# Import the accuracy_score function.\n",
        "from sklearn.metrics import accuracy_score\n",
        "\n",
        "# Write code to calculate and print the test accuracy\n",
        "accuracy_score(y_test, y_pred)"
      ],
      "metadata": {
        "colab": {
          "base_uri": "https://localhost:8080/"
        },
        "id": "znyCtjHaXy2C",
        "outputId": "5f1a86b9-08fc-441c-8b60-052ca9a26e8b"
      },
      "execution_count": null,
      "outputs": [
        {
          "output_type": "execute_result",
          "data": {
            "text/plain": [
              "0.839"
            ]
          },
          "metadata": {},
          "execution_count": 17
        }
      ]
    },
    {
      "cell_type": "markdown",
      "source": [
        "--------------------------------------------------------------------------------\n",
        "# Apply another machine learning model (Support Vector Machines)\n",
        "\n",
        "We will now apply another machine learning model called Support Vector Machines (SVM). \\"
      ],
      "metadata": {
        "id": "LjSA21WMmsB7"
      }
    },
    {
      "cell_type": "markdown",
      "source": [
        "### Step 1: Import the SVM model from the scikit-learn library and initialize it."
      ],
      "metadata": {
        "id": "vhiaGejm18pl"
      }
    },
    {
      "cell_type": "code",
      "source": [
        "# Import the SVM model\n",
        "from sklearn.svm import SVC\n",
        "\n",
        "# Type code to initialize the model.\n",
        "svm = SVC()"
      ],
      "metadata": {
        "id": "B21f6qYFmq1q"
      },
      "execution_count": null,
      "outputs": []
    },
    {
      "cell_type": "markdown",
      "source": [
        "### Step 2: Train the SVM model using the training images (``X_train``) and training labels (``y_train``)"
      ],
      "metadata": {
        "id": "69YqcFoi2DuJ"
      }
    },
    {
      "cell_type": "code",
      "source": [
        "# Type your code here\n",
        "\n",
        "svm.fit(X_train, y_train)"
      ],
      "metadata": {
        "colab": {
          "base_uri": "https://localhost:8080/",
          "height": 75
        },
        "id": "2UL4s7OYzLK6",
        "outputId": "f0a02b0f-420a-4322-f040-797c7d8d6021"
      },
      "execution_count": null,
      "outputs": [
        {
          "output_type": "execute_result",
          "data": {
            "text/plain": [
              "SVC()"
            ],
            "text/html": [
              "<style>#sk-container-id-2 {color: black;background-color: white;}#sk-container-id-2 pre{padding: 0;}#sk-container-id-2 div.sk-toggleable {background-color: white;}#sk-container-id-2 label.sk-toggleable__label {cursor: pointer;display: block;width: 100%;margin-bottom: 0;padding: 0.3em;box-sizing: border-box;text-align: center;}#sk-container-id-2 label.sk-toggleable__label-arrow:before {content: \"▸\";float: left;margin-right: 0.25em;color: #696969;}#sk-container-id-2 label.sk-toggleable__label-arrow:hover:before {color: black;}#sk-container-id-2 div.sk-estimator:hover label.sk-toggleable__label-arrow:before {color: black;}#sk-container-id-2 div.sk-toggleable__content {max-height: 0;max-width: 0;overflow: hidden;text-align: left;background-color: #f0f8ff;}#sk-container-id-2 div.sk-toggleable__content pre {margin: 0.2em;color: black;border-radius: 0.25em;background-color: #f0f8ff;}#sk-container-id-2 input.sk-toggleable__control:checked~div.sk-toggleable__content {max-height: 200px;max-width: 100%;overflow: auto;}#sk-container-id-2 input.sk-toggleable__control:checked~label.sk-toggleable__label-arrow:before {content: \"▾\";}#sk-container-id-2 div.sk-estimator input.sk-toggleable__control:checked~label.sk-toggleable__label {background-color: #d4ebff;}#sk-container-id-2 div.sk-label input.sk-toggleable__control:checked~label.sk-toggleable__label {background-color: #d4ebff;}#sk-container-id-2 input.sk-hidden--visually {border: 0;clip: rect(1px 1px 1px 1px);clip: rect(1px, 1px, 1px, 1px);height: 1px;margin: -1px;overflow: hidden;padding: 0;position: absolute;width: 1px;}#sk-container-id-2 div.sk-estimator {font-family: monospace;background-color: #f0f8ff;border: 1px dotted black;border-radius: 0.25em;box-sizing: border-box;margin-bottom: 0.5em;}#sk-container-id-2 div.sk-estimator:hover {background-color: #d4ebff;}#sk-container-id-2 div.sk-parallel-item::after {content: \"\";width: 100%;border-bottom: 1px solid gray;flex-grow: 1;}#sk-container-id-2 div.sk-label:hover label.sk-toggleable__label {background-color: #d4ebff;}#sk-container-id-2 div.sk-serial::before {content: \"\";position: absolute;border-left: 1px solid gray;box-sizing: border-box;top: 0;bottom: 0;left: 50%;z-index: 0;}#sk-container-id-2 div.sk-serial {display: flex;flex-direction: column;align-items: center;background-color: white;padding-right: 0.2em;padding-left: 0.2em;position: relative;}#sk-container-id-2 div.sk-item {position: relative;z-index: 1;}#sk-container-id-2 div.sk-parallel {display: flex;align-items: stretch;justify-content: center;background-color: white;position: relative;}#sk-container-id-2 div.sk-item::before, #sk-container-id-2 div.sk-parallel-item::before {content: \"\";position: absolute;border-left: 1px solid gray;box-sizing: border-box;top: 0;bottom: 0;left: 50%;z-index: -1;}#sk-container-id-2 div.sk-parallel-item {display: flex;flex-direction: column;z-index: 1;position: relative;background-color: white;}#sk-container-id-2 div.sk-parallel-item:first-child::after {align-self: flex-end;width: 50%;}#sk-container-id-2 div.sk-parallel-item:last-child::after {align-self: flex-start;width: 50%;}#sk-container-id-2 div.sk-parallel-item:only-child::after {width: 0;}#sk-container-id-2 div.sk-dashed-wrapped {border: 1px dashed gray;margin: 0 0.4em 0.5em 0.4em;box-sizing: border-box;padding-bottom: 0.4em;background-color: white;}#sk-container-id-2 div.sk-label label {font-family: monospace;font-weight: bold;display: inline-block;line-height: 1.2em;}#sk-container-id-2 div.sk-label-container {text-align: center;}#sk-container-id-2 div.sk-container {/* jupyter's `normalize.less` sets `[hidden] { display: none; }` but bootstrap.min.css set `[hidden] { display: none !important; }` so we also need the `!important` here to be able to override the default hidden behavior on the sphinx rendered scikit-learn.org. See: https://github.com/scikit-learn/scikit-learn/issues/21755 */display: inline-block !important;position: relative;}#sk-container-id-2 div.sk-text-repr-fallback {display: none;}</style><div id=\"sk-container-id-2\" class=\"sk-top-container\"><div class=\"sk-text-repr-fallback\"><pre>SVC()</pre><b>In a Jupyter environment, please rerun this cell to show the HTML representation or trust the notebook. <br />On GitHub, the HTML representation is unable to render, please try loading this page with nbviewer.org.</b></div><div class=\"sk-container\" hidden><div class=\"sk-item\"><div class=\"sk-estimator sk-toggleable\"><input class=\"sk-toggleable__control sk-hidden--visually\" id=\"sk-estimator-id-2\" type=\"checkbox\" checked><label for=\"sk-estimator-id-2\" class=\"sk-toggleable__label sk-toggleable__label-arrow\">SVC</label><div class=\"sk-toggleable__content\"><pre>SVC()</pre></div></div></div></div></div>"
            ]
          },
          "metadata": {},
          "execution_count": 19
        }
      ]
    },
    {
      "cell_type": "markdown",
      "source": [
        "### Step 3: Predict the labels for the test images (``X_test``)"
      ],
      "metadata": {
        "id": "ex_oYyRB2ayo"
      }
    },
    {
      "cell_type": "code",
      "source": [
        "# Type your code here\n",
        "\n",
        "y_pred = svm.predict(X_test)"
      ],
      "metadata": {
        "id": "nIG9UXzFzN9s"
      },
      "execution_count": null,
      "outputs": []
    },
    {
      "cell_type": "markdown",
      "source": [
        "### Calculate the test accuracy using the ``accuracy_score()`` function\n"
      ],
      "metadata": {
        "id": "xmFFzSNz2cMn"
      }
    },
    {
      "cell_type": "code",
      "source": [
        "# Write code to calculate and print the test accuracy\n",
        "accuracy_score(y_test, y_pred)"
      ],
      "metadata": {
        "id": "Bo6C_vkwzTrT",
        "colab": {
          "base_uri": "https://localhost:8080/"
        },
        "outputId": "1a07766e-bd94-4e5d-ae16-6a6ba174a596"
      },
      "execution_count": null,
      "outputs": [
        {
          "output_type": "execute_result",
          "data": {
            "text/plain": [
              "0.876"
            ]
          },
          "metadata": {},
          "execution_count": 21
        }
      ]
    }
  ]
}