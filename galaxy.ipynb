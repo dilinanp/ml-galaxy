{
  "nbformat": 4,
  "nbformat_minor": 0,
  "metadata": {
    "colab": {
      "provenance": [],
      "authorship_tag": "ABX9TyOtTKIOwq9BEjrhTNaz+W2N",
      "include_colab_link": true
    },
    "kernelspec": {
      "name": "python3",
      "display_name": "Python 3"
    },
    "language_info": {
      "name": "python"
    }
  },
  "cells": [
    {
      "cell_type": "markdown",
      "metadata": {
        "id": "view-in-github",
        "colab_type": "text"
      },
      "source": [
        "<a href=\"https://colab.research.google.com/github/dilinanp/ml-galaxy/blob/main/galaxy.ipynb\" target=\"_parent\"><img src=\"https://colab.research.google.com/assets/colab-badge.svg\" alt=\"Open In Colab\"/></a>"
      ]
    },
    {
      "cell_type": "markdown",
      "source": [
        "# Import necessary Python libraries and functions."
      ],
      "metadata": {
        "id": "jTywTWlwdwAi"
      }
    },
    {
      "cell_type": "code",
      "source": [
        "# Run the following code by hitting the \"play\" button on the left.\n",
        "\n",
        "import numpy as np\n",
        "import h5py\n",
        "import matplotlib.pyplot as plt\n",
        "from matplotlib.pyplot import imshow\n",
        "\n",
        "plt.rcParams['image.cmap']='gray'"
      ],
      "metadata": {
        "id": "-KpLttUbRy_2"
      },
      "execution_count": null,
      "outputs": []
    },
    {
      "cell_type": "markdown",
      "source": [
        "# Download the dataset\n",
        "The dataset will be downloaded as a single file named ``galaxy_small.h5``."
      ],
      "metadata": {
        "id": "6sjN13qhfCQz"
      }
    },
    {
      "cell_type": "code",
      "source": [
        "# Run the following code by hitting the \"play\" button on the left.\n",
        "\n",
        "!wget -O galaxy_small.h5 \"https://www.dropbox.com/scl/fi/htzz25s95sjnyfm0ofvfn/galaxy_small.h5?dl=0&rlkey=586kuytxtxvwsvz1q8a47az0m\""
      ],
      "metadata": {
        "id": "b_WbZ0UkTn1Q"
      },
      "execution_count": null,
      "outputs": []
    },
    {
      "cell_type": "markdown",
      "source": [
        "# Read the dataset and store the images and labels in seperate arrays.\n",
        "The images will be stored in an array named ``images``.\n",
        "\n",
        "The labels will be stored in an array named ``labels``.\n"
      ],
      "metadata": {
        "id": "hE6UBmD2f0PS"
      }
    },
    {
      "cell_type": "code",
      "source": [
        "# Run the following code by hitting the \"play\" button on the left.\n",
        "\n",
        "with h5py.File(\"galaxy_small.h5\", 'r') as f:\n",
        "    images = np.array(f['images'])\n",
        "    labels = np.array(f['labels'])"
      ],
      "metadata": {
        "id": "C1hIxfuHR99G"
      },
      "execution_count": null,
      "outputs": []
    },
    {
      "cell_type": "markdown",
      "source": [
        "--------------------------------------------------------------------------------\n",
        "# Explore the ``images`` and ``labels`` arrays to get an idea about the dataset.\n",
        "Our dataset consists of 3000 grayscale images of galaxies and the corresponding labels.\n",
        "\n",
        "There are three types of galaxies in the dataset:\n",
        "\n",
        "| Galaxy Type | Label | Number of Images |\n",
        "| ----------- |:-----:|:----------------:|\n",
        "| Round       |   0   |       1000       |\n",
        "| Sprial      |   1   |       1000       |\n",
        "| Edge-on     |   2   |       1000       |\n"
      ],
      "metadata": {
        "id": "wU5d13wtpZmG"
      }
    },
    {
      "cell_type": "markdown",
      "source": [
        "### Check the lengths of the ``images`` and ``labels`` arrays using the ``len()`` function."
      ],
      "metadata": {
        "id": "uwMf4prbhuo9"
      }
    },
    {
      "cell_type": "code",
      "source": [
        "# Type the code to find the length of the images array, and then hit the \"play\" button to run it.\n",
        "\n"
      ],
      "metadata": {
        "id": "q2aVsCXGWYvU"
      },
      "execution_count": null,
      "outputs": []
    },
    {
      "cell_type": "code",
      "source": [
        "# Type the code to find the length of the labels array.\n",
        "\n"
      ],
      "metadata": {
        "id": "ZPGnivn0XZPa"
      },
      "execution_count": null,
      "outputs": []
    },
    {
      "cell_type": "markdown",
      "source": [
        "### Print the entire ``labels`` array."
      ],
      "metadata": {
        "id": "jNLSE7T7kELk"
      }
    },
    {
      "cell_type": "code",
      "source": [
        "# Type your code here.\n",
        "\n"
      ],
      "metadata": {
        "id": "i8fnr0jeuIOP"
      },
      "execution_count": null,
      "outputs": []
    },
    {
      "cell_type": "markdown",
      "source": [
        "### Print the label of the first image.\n",
        "Note that array indices start from 0 in Python."
      ],
      "metadata": {
        "id": "dwDc5iB-xur_"
      }
    },
    {
      "cell_type": "code",
      "source": [
        "# Type your code here.\n",
        "\n"
      ],
      "metadata": {
        "id": "J_EcZ2RLyD3c"
      },
      "execution_count": null,
      "outputs": []
    },
    {
      "cell_type": "markdown",
      "source": [
        "### Print the labels of the first 20 images."
      ],
      "metadata": {
        "id": "tWRVIE0qusY8"
      }
    },
    {
      "cell_type": "code",
      "source": [
        "# Type your code here.\n",
        "\n"
      ],
      "metadata": {
        "id": "LbCPGnNMuTaF"
      },
      "execution_count": null,
      "outputs": []
    },
    {
      "cell_type": "markdown",
      "source": [
        "### Print the first image."
      ],
      "metadata": {
        "id": "T8qsWlbmvfpr"
      }
    },
    {
      "cell_type": "code",
      "source": [
        "# Type your code here.\n",
        "\n"
      ],
      "metadata": {
        "id": "wEofj9aNXaeM"
      },
      "execution_count": null,
      "outputs": []
    },
    {
      "cell_type": "markdown",
      "source": [
        "### Print the \"shape\" of the first image.\n",
        "Note that grayscale images are simply two-dimensional arrays of numbers.\n",
        "\n",
        "The ``shape()`` function gives the lengths of the corresponding array dimensions (that is, the height and the width of the image in pixels)."
      ],
      "metadata": {
        "id": "gcpg7LtJ136F"
      }
    },
    {
      "cell_type": "code",
      "source": [
        "# Type your code here.\n",
        "\n"
      ],
      "metadata": {
        "id": "1ebZe3yb3jMx"
      },
      "execution_count": null,
      "outputs": []
    },
    {
      "cell_type": "markdown",
      "source": [
        "### Display the first image as an actual image using the ``imshow()`` function.\n",
        "See if you can identify what type of galaxy it is (round, spiral, or edge-on).\n"
      ],
      "metadata": {
        "id": "DFXdBZOo4wkV"
      }
    },
    {
      "cell_type": "code",
      "source": [
        "# Type your code here.\n",
        "\n"
      ],
      "metadata": {
        "id": "YKFAt9YfXcQx"
      },
      "execution_count": null,
      "outputs": []
    },
    {
      "cell_type": "markdown",
      "source": [
        "### Print the label of the first image and see if you had guessed the galaxy type correctly.\n",
        "Remember that the labels corresponding to different galaxy types are,\n",
        "\n",
        "| Galaxy Type | Label |\n",
        "| ----------- |:-----:|\n",
        "| Round       |   0   |\n",
        "| Sprial      |   1   |\n",
        "| Edge-on     |   2   |"
      ],
      "metadata": {
        "id": "bRY6mokm669O"
      }
    },
    {
      "cell_type": "code",
      "source": [
        "# Type your code here.\n",
        "\n"
      ],
      "metadata": {
        "id": "a4Jd5FCt7_P1"
      },
      "execution_count": null,
      "outputs": []
    },
    {
      "cell_type": "markdown",
      "source": [
        "--------------------------------------------------------------------------------\n",
        "# Prepare the dataset for machine learning models.\n",
        "\n",
        "\n"
      ],
      "metadata": {
        "id": "6E8IfP5X_vul"
      }
    },
    {
      "cell_type": "markdown",
      "source": [
        "### Step 1: \"Flatten\" the images.\n",
        "Since our images are 2D arrays, we cannot directly feed them into machine learning models.\n",
        "\n",
        "We will first need to convert each 100 X 100 array into a 1D array of size 10,000.\n",
        "\n",
        "This can be achieved using the ``reshape()`` function."
      ],
      "metadata": {
        "id": "d1s2M7RoAOsX"
      }
    },
    {
      "cell_type": "code",
      "source": [
        "# Type your code here.\n",
        "\n"
      ],
      "metadata": {
        "id": "BsMIy8gcXd5o"
      },
      "execution_count": null,
      "outputs": []
    },
    {
      "cell_type": "markdown",
      "source": [
        "### Step 2: Split the dataset into a training set and a test set\n",
        "We will use the first 2000 images/labels for training, and the remaining 1000 images/labels for testing."
      ],
      "metadata": {
        "id": "M5oz_QMBCZrs"
      }
    },
    {
      "cell_type": "markdown",
      "source": [
        "Split the ``images`` array into two arrays:\n",
        "\n",
        "first 2000 images &rarr; ``X_train``\n",
        "\n",
        "last 1000 images &rarr; ``X_test``\n",
        "\n"
      ],
      "metadata": {
        "id": "qkfe6-c6WBDD"
      }
    },
    {
      "cell_type": "code",
      "source": [
        "# Type your code here.\n",
        "\n"
      ],
      "metadata": {
        "id": "XBdGz15yXtmF"
      },
      "execution_count": null,
      "outputs": []
    },
    {
      "cell_type": "markdown",
      "source": [
        "Split the ``labels`` array into two arrays:\n",
        "\n",
        "first 2000 labels &rarr; ``y_train``\n",
        "\n",
        "last 1000 labels &rarr; ``y_test``"
      ],
      "metadata": {
        "id": "bMW4myL2Zmam"
      }
    },
    {
      "cell_type": "code",
      "source": [
        "# Type your code here.\n",
        "\n"
      ],
      "metadata": {
        "id": "eyh3S1wDZvYS"
      },
      "execution_count": null,
      "outputs": []
    },
    {
      "cell_type": "markdown",
      "source": [
        "--------------------------------------------------------------------------------\n",
        "# Apply the machine learning model (K-Nearest Neighbors)\n",
        "\n",
        "Let us apply a simple machine learning model called K-Nearest Neighbors (KNN). \\\n"
      ],
      "metadata": {
        "id": "6fTjOQDCpg_O"
      }
    },
    {
      "cell_type": "markdown",
      "source": [
        "### Step 1: Import the KNN model from the scikit-learn (``sklearn``) library and initialize it."
      ],
      "metadata": {
        "id": "QB-HYAbmthIs"
      }
    },
    {
      "cell_type": "code",
      "source": [
        "# Import the KNN model\n",
        "from sklearn.neighbors import KNeighborsClassifier\n",
        "\n",
        "# Type code to initialize the model.\n"
      ],
      "metadata": {
        "id": "yCB1CozGuKRL"
      },
      "execution_count": null,
      "outputs": []
    },
    {
      "cell_type": "markdown",
      "source": [
        "### Step 2: Train the KNN model using the training images (``X_train``) and training labels (``y_train``)\n",
        "\n",
        "We can use the ``fit()`` function to train the model."
      ],
      "metadata": {
        "id": "tsSfMcrx1XBm"
      }
    },
    {
      "cell_type": "code",
      "source": [
        "# Type your code here\n",
        "\n"
      ],
      "metadata": {
        "id": "hmX3tQiM1w_H"
      },
      "execution_count": null,
      "outputs": []
    },
    {
      "cell_type": "markdown",
      "source": [
        "### Step 3: Predict the labels for the test images (``X_test``)\n",
        "\n",
        "You can use the ``predict()`` function to predict the labels.\n",
        "\n",
        "Assign the resulting predicted labels to a variable named ``y_pred``."
      ],
      "metadata": {
        "id": "8GmtffZc2GYC"
      }
    },
    {
      "cell_type": "code",
      "source": [
        "# Type your code here\n",
        "\n"
      ],
      "metadata": {
        "id": "5mDbnrtl1754"
      },
      "execution_count": null,
      "outputs": []
    },
    {
      "cell_type": "markdown",
      "source": [
        "### Compare the predicted labels and the true labels for the first 20 test images.\n",
        "See if the machine learning model has done a good job at predicting labels of the first 20 test images."
      ],
      "metadata": {
        "id": "JAt_GmGD5wPw"
      }
    },
    {
      "cell_type": "code",
      "source": [
        "# Write code to print the first 20 elements in the y_pred array.\n"
      ],
      "metadata": {
        "id": "a4GEqSAM66Pp"
      },
      "execution_count": null,
      "outputs": []
    },
    {
      "cell_type": "code",
      "source": [
        "# Write code to print the first 20 elements in the y_test array.\n"
      ],
      "metadata": {
        "id": "Xu2jU3caBquj"
      },
      "execution_count": null,
      "outputs": []
    },
    {
      "cell_type": "markdown",
      "source": [
        "### Calculate the test accuracy\n",
        "One way to evaluate the performance of the machine learning model is to calculate the \"test accuracy\", which is the fraction of predictions our model got right.\n",
        "\n",
        "We can use the ``accuracy_score()`` function in the scikit-learn library to calculate the test accuracy."
      ],
      "metadata": {
        "id": "L3H3l3s7B_Io"
      }
    },
    {
      "cell_type": "code",
      "source": [
        "# Import the accuracy_score function.\n",
        "from sklearn.metrics import accuracy_score\n",
        "\n",
        "# Write code to calculate and print the test accuracy\n"
      ],
      "metadata": {
        "id": "znyCtjHaXy2C"
      },
      "execution_count": null,
      "outputs": []
    },
    {
      "cell_type": "markdown",
      "source": [
        "--------------------------------------------------------------------------------\n",
        "# Apply another machine learning model (Support Vector Machines)\n",
        "\n",
        "We will now apply another machine learning model called Support Vector Machines (SVM). \\"
      ],
      "metadata": {
        "id": "LjSA21WMmsB7"
      }
    },
    {
      "cell_type": "markdown",
      "source": [
        "### Step 1: Import the SVM model from the scikit-learn library and initialize it."
      ],
      "metadata": {
        "id": "vhiaGejm18pl"
      }
    },
    {
      "cell_type": "code",
      "source": [
        "# Import the SVM model\n",
        "from sklearn.svm import SVC\n",
        "\n",
        "# Type code to initialize the model.\n"
      ],
      "metadata": {
        "id": "B21f6qYFmq1q"
      },
      "execution_count": null,
      "outputs": []
    },
    {
      "cell_type": "markdown",
      "source": [
        "### Step 2: Train the SVM model using the training images (``X_train``) and training labels (``y_train``)"
      ],
      "metadata": {
        "id": "69YqcFoi2DuJ"
      }
    },
    {
      "cell_type": "code",
      "source": [
        "# Type your code here\n",
        "\n"
      ],
      "metadata": {
        "id": "2UL4s7OYzLK6"
      },
      "execution_count": null,
      "outputs": []
    },
    {
      "cell_type": "markdown",
      "source": [
        "### Step 3: Predict the labels for the test images (``X_test``)"
      ],
      "metadata": {
        "id": "ex_oYyRB2ayo"
      }
    },
    {
      "cell_type": "code",
      "source": [
        "# Type your code here\n",
        "\n"
      ],
      "metadata": {
        "id": "nIG9UXzFzN9s"
      },
      "execution_count": null,
      "outputs": []
    },
    {
      "cell_type": "markdown",
      "source": [
        "### Calculate the test accuracy using the ``accuracy_score()`` function\n"
      ],
      "metadata": {
        "id": "xmFFzSNz2cMn"
      }
    },
    {
      "cell_type": "code",
      "source": [
        "# Write code to calculate and print the test accuracy\n"
      ],
      "metadata": {
        "id": "Bo6C_vkwzTrT"
      },
      "execution_count": null,
      "outputs": []
    }
  ]
}